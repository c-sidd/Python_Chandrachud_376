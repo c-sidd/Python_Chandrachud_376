{
 "cells": [
  {
   "cell_type": "code",
   "execution_count": null,
   "id": "011f07b0",
   "metadata": {},
   "outputs": [],
   "source": [
    "#assignment opperator\n",
    "a = 5\n",
    "b =6\n"
   ]
  }
 ],
 "metadata": {
  "language_info": {
   "name": "python"
  }
 },
 "nbformat": 4,
 "nbformat_minor": 5
}
