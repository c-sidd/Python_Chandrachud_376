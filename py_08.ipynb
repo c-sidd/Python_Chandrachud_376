{
 "cells": [
  {
   "cell_type": "markdown",
   "id": "fb4bb134",
   "metadata": {},
   "source": [
    "\n",
    "\n",
    "### 🧠 Basic Syntax\n",
    "\n",
    "```python\n",
    "match variable:\n",
    "    case pattern1:\n",
    "        # code block\n",
    "    case pattern2:\n",
    "        # code block\n",
    "    case _:\n",
    "        # default block (wildcard)\n",
    "```\n",
    "\n",
    "The `match` expression is evaluated once, and Python checks each `case` for a match. The `_` acts like a default fallback.\n",
    "\n",
    "\n"
   ]
  },
  {
   "cell_type": "code",
   "execution_count": 2,
   "id": "27460871",
   "metadata": {},
   "outputs": [
    {
     "name": "stdout",
     "output_type": "stream",
     "text": [
      "Thursday\n"
     ]
    }
   ],
   "source": [
    "day = 4\n",
    "match day:\n",
    "    case 1:\n",
    "        print('Monday')\n",
    "    case 2:\n",
    "        print('Tuesday')\n",
    "    case 3:\n",
    "        print('wednesday')\n",
    "    case 4:\n",
    "        print('Thursday')\n",
    "    case 5:\n",
    "        print('Friday')\n",
    "    case 6:\n",
    "        print('Saturday')\n",
    "    case _:\n",
    "        print('Sunday')\n",
    "\n",
    "\n",
    " "
   ]
  },
  {
   "cell_type": "code",
   "execution_count": 3,
   "id": "f69b9685",
   "metadata": {},
   "outputs": [
    {
     "name": "stdout",
     "output_type": "stream",
     "text": [
      "Weekdays\n"
     ]
    }
   ],
   "source": [
    "day = 5\n",
    "match day:\n",
    "    case 1|2|3|4|5:\n",
    "        print('Weekdays')\n",
    "    case _:\n",
    "        print('Weekend')"
   ]
  },
  {
   "cell_type": "code",
   "execution_count": null,
   "id": "07edc378",
   "metadata": {},
   "outputs": [],
   "source": [
    "day = 5\n",
    "match day:\n",
    "    case 1|2|3|4|5 :\n",
    "        print('Weekdays')\n",
    "    case if day ==6:\n",
    "        print('Freeday')\n",
    "    case _:\n",
    "        print('Weekend')"
   ]
  },
  {
   "cell_type": "markdown",
   "id": "cf4ee7b1",
   "metadata": {},
   "source": [
    "\n",
    "### ✅ Corrected `match-case` Example\n",
    "\n",
    "```python\n",
    "day = 5\n",
    "\n",
    "match day:\n",
    "    case 1 | 2 | 3 | 4 | 5:\n",
    "        print(\"Weekdays\")\n",
    "    case 6 if day == 6:\n",
    "        print(\"Freeday\")  # This will only trigger if day == 6\n",
    "    case _:\n",
    "        print(\"Weekend\")\n",
    "```\n",
    "\n",
    "---\n",
    "\n",
    "### 🧠 Notes:\n",
    "- `case 6 if day == 6:` is valid because `6` is the pattern and `if day == 6` is the guard.\n",
    "- The `case _:` acts as a wildcard — like `else`.\n",
    "\n",
    "But in this case, the guard is redundant because `case 6:` already matches `day == 6`. So you could simplify it:\n",
    "\n",
    "```python\n",
    "day = 5\n",
    "\n",
    "match day:\n",
    "    case 1 | 2 | 3 | 4 | 5:\n",
    "        print(\"Weekdays\")\n",
    "    case 6:\n",
    "        print(\"Freeday\")\n",
    "    case _:\n",
    "        print(\"Weekend\")\n",
    "```\n"
   ]
  },
  {
   "cell_type": "code",
   "execution_count": null,
   "id": "7835777d",
   "metadata": {},
   "outputs": [
    {
     "name": "stdout",
     "output_type": "stream",
     "text": [
      "Weekdays\n"
     ]
    }
   ],
   "source": [
    "day = 5\n",
    "match day:\n",
    "    case 1|2|3|4|5  :\n",
    "        print('Weekdays')\n",
    "    case 6 if day ==6:\n",
    "        print('Freeday')\n",
    "    case _:\n",
    "        print('Weekend')"
   ]
  },
  {
   "cell_type": "code",
   "execution_count": null,
   "id": "72ad6078",
   "metadata": {},
   "outputs": [],
   "source": []
  },
  {
   "cell_type": "markdown",
   "id": "69077f81",
   "metadata": {},
   "source": [
    "Loop"
   ]
  },
  {
   "cell_type": "code",
   "execution_count": 14,
   "id": "7cd3c0b5",
   "metadata": {},
   "outputs": [
    {
     "name": "stdout",
     "output_type": "stream",
     "text": [
      "1 2 3 4 5 "
     ]
    }
   ],
   "source": [
    "i = 1\n",
    "while i<6:\n",
    "    print(i,end=' ')\n",
    "    i +=1\n"
   ]
  },
  {
   "cell_type": "code",
   "execution_count": null,
   "id": "f870112e",
   "metadata": {},
   "outputs": [],
   "source": []
  }
 ],
 "metadata": {
  "kernelspec": {
   "display_name": "base",
   "language": "python",
   "name": "python3"
  },
  "language_info": {
   "codemirror_mode": {
    "name": "ipython",
    "version": 3
   },
   "file_extension": ".py",
   "mimetype": "text/x-python",
   "name": "python",
   "nbconvert_exporter": "python",
   "pygments_lexer": "ipython3",
   "version": "3.13.5"
  }
 },
 "nbformat": 4,
 "nbformat_minor": 5
}
