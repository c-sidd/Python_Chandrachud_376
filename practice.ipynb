{
 "cells": [
  {
   "cell_type": "code",
   "execution_count": 1,
   "id": "fe58faea",
   "metadata": {},
   "outputs": [
    {
     "name": "stdout",
     "output_type": "stream",
     "text": [
      "The sum of the number is 11\n"
     ]
    }
   ],
   "source": [
    "#3\n",
    "a = int(input(\"Enter two number\"))\n",
    "b = int(input(\"Enter Second number\"))\n",
    "print(f\"The sum of the number is {a+b}\")\n"
   ]
  },
  {
   "cell_type": "markdown",
   "id": "9acf7854",
   "metadata": {},
   "source": [
    "# 3) WAP TO SWAP TWO VARIABLES"
   ]
  },
  {
   "cell_type": "code",
   "execution_count": 2,
   "id": "b6d4491c",
   "metadata": {},
   "outputs": [
    {
     "name": "stdout",
     "output_type": "stream",
     "text": [
      "value is waped 6,4\n"
     ]
    }
   ],
   "source": [
    "a = int(input(\"Enter First number\"))\n",
    "b = int(input(\"Enter second number\"))\n",
    "a,b=b,a\n",
    "print(f'value is waped {a},{b}')"
   ]
  },
  {
   "cell_type": "markdown",
   "id": "59f80c43",
   "metadata": {},
   "source": [
    "# 4) EVEN- odd"
   ]
  },
  {
   "cell_type": "code",
   "execution_count": 7,
   "id": "86f822df",
   "metadata": {},
   "outputs": [
    {
     "name": "stdout",
     "output_type": "stream",
     "text": [
      "The number is odd\n"
     ]
    }
   ],
   "source": [
    "a = int(input(\"Enter a nimber\"))\n",
    "print(\"The Number is even\") if a%2==0 else print(\"The number is odd\")\n"
   ]
  },
  {
   "cell_type": "markdown",
   "id": "1493dbe1",
   "metadata": {},
   "source": [
    "# 6) WAP a program to  convert celsius to farenheit"
   ]
  },
  {
   "cell_type": "code",
   "execution_count": 9,
   "id": "392833e3",
   "metadata": {},
   "outputs": [
    {
     "name": "stdout",
     "output_type": "stream",
     "text": [
      "The temperature in farenheit is 98.6\n"
     ]
    }
   ],
   "source": [
    "a = float(input(\"Enter temperature in celsius\"))\n",
    "b = (a*9/5)+32\n",
    "print(f\"The temperature in farenheit is {b}\")"
   ]
  },
  {
   "cell_type": "markdown",
   "id": "0f582675",
   "metadata": {},
   "source": [
    "# 7) WAP a program to check type of a variable "
   ]
  },
  {
   "cell_type": "code",
   "execution_count": 10,
   "id": "30d6081b",
   "metadata": {},
   "outputs": [
    {
     "name": "stdout",
     "output_type": "stream",
     "text": [
      "<class 'int'>\n",
      "<class 'str'>\n",
      "<class 'float'>\n",
      "<class 'str'>\n"
     ]
    }
   ],
   "source": [
    "a,b,c ,d= 4,\"hekki\",8.78,'j'\n",
    "print(type(a))\n",
    "print(type(b))\n",
    "print(type(c))\n",
    "print(type(d))"
   ]
  },
  {
   "cell_type": "markdown",
   "id": "a4c7ea38",
   "metadata": {},
   "source": [
    "# 8) WAP to  calculate simple intereset"
   ]
  },
  {
   "cell_type": "code",
   "execution_count": 14,
   "id": "8fdb3dd0",
   "metadata": {},
   "outputs": [
    {
     "name": "stdout",
     "output_type": "stream",
     "text": [
      "the simmple interest is 10.0\n"
     ]
    }
   ],
   "source": [
    "a =float (input(\"Enter the principal amount\"))\n",
    "b = float(input (\"Enter the rate of interest\"))\n",
    "c = int(input(\"Enter time in years\"))\n",
    "print(f'the simmple interest is {a*b*c/100}')"
   ]
  },
  {
   "cell_type": "markdown",
   "id": "a1b445b1",
   "metadata": {},
   "source": [
    "# 9) Write a program to reverse a string"
   ]
  },
  {
   "cell_type": "code",
   "execution_count": 17,
   "id": "fd728b83",
   "metadata": {},
   "outputs": [
    {
     "name": "stdout",
     "output_type": "stream",
     "text": [
      "The reversed string is htrahddis duhcardnahc\n"
     ]
    }
   ],
   "source": [
    "a = input('Enter a string')\n",
    "b = a[::-1]\n",
    "print(f\"The reversed string is {b}\")"
   ]
  },
  {
   "cell_type": "code",
   "execution_count": null,
   "id": "c196e8f0",
   "metadata": {},
   "outputs": [],
   "source": []
  }
 ],
 "metadata": {
  "kernelspec": {
   "display_name": "base",
   "language": "python",
   "name": "python3"
  },
  "language_info": {
   "codemirror_mode": {
    "name": "ipython",
    "version": 3
   },
   "file_extension": ".py",
   "mimetype": "text/x-python",
   "name": "python",
   "nbconvert_exporter": "python",
   "pygments_lexer": "ipython3",
   "version": "3.13.5"
  }
 },
 "nbformat": 4,
 "nbformat_minor": 5
}
