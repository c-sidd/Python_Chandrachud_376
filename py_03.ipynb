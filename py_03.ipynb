{
 "cells": [
  {
   "cell_type": "code",
   "execution_count": null,
   "id": "b5e0a925",
   "metadata": {},
   "outputs": [],
   "source": [
    "#day_03 "
   ]
  },
  {
   "cell_type": "code",
   "execution_count": 1,
   "id": "7b695f5e",
   "metadata": {},
   "outputs": [
    {
     "data": {
      "text/plain": [
       "140718213280808"
      ]
     },
     "execution_count": 1,
     "metadata": {},
     "output_type": "execute_result"
    }
   ],
   "source": [
    "a = 5\n",
    "id(a)"
   ]
  },
  {
   "cell_type": "markdown",
   "id": "6ebca0b5",
   "metadata": {},
   "source": [
    "Numeric Data types"
   ]
  },
  {
   "cell_type": "code",
   "execution_count": null,
   "id": "104e8d83",
   "metadata": {},
   "outputs": [],
   "source": [
    "# data types\n",
    " #numeric \n",
    "a = 2\n",
    "b = 3.45\n",
    "c = True\n",
    "d = 10 + 3j\n"
   ]
  },
  {
   "cell_type": "markdown",
   "id": "d0157276",
   "metadata": {},
   "source": []
  },
  {
   "cell_type": "code",
   "execution_count": 3,
   "id": "c73038a3",
   "metadata": {},
   "outputs": [
    {
     "data": {
      "text/plain": [
       "140718213280712"
      ]
     },
     "execution_count": 3,
     "metadata": {},
     "output_type": "execute_result"
    }
   ],
   "source": [
    "type(a)\n",
    "id(a)"
   ]
  },
  {
   "cell_type": "code",
   "execution_count": 4,
   "id": "dae5567c",
   "metadata": {},
   "outputs": [
    {
     "data": {
      "text/plain": [
       "int"
      ]
     },
     "execution_count": 4,
     "metadata": {},
     "output_type": "execute_result"
    }
   ],
   "source": [
    "type(a)"
   ]
  },
  {
   "cell_type": "code",
   "execution_count": 5,
   "id": "30137da6",
   "metadata": {},
   "outputs": [
    {
     "data": {
      "text/plain": [
       "float"
      ]
     },
     "execution_count": 5,
     "metadata": {},
     "output_type": "execute_result"
    }
   ],
   "source": [
    "type(b)"
   ]
  },
  {
   "cell_type": "code",
   "execution_count": 6,
   "id": "000a9c7c",
   "metadata": {},
   "outputs": [
    {
     "data": {
      "text/plain": [
       "bool"
      ]
     },
     "execution_count": 6,
     "metadata": {},
     "output_type": "execute_result"
    }
   ],
   "source": [
    "type(c)"
   ]
  },
  {
   "cell_type": "code",
   "execution_count": 7,
   "id": "663c872e",
   "metadata": {},
   "outputs": [
    {
     "data": {
      "text/plain": [
       "complex"
      ]
     },
     "execution_count": 7,
     "metadata": {},
     "output_type": "execute_result"
    }
   ],
   "source": [
    "type(d)"
   ]
  },
  {
   "cell_type": "markdown",
   "id": "1650a749",
   "metadata": {},
   "source": [
    "single quotes,double,triple"
   ]
  },
  {
   "cell_type": "markdown",
   "id": "c9ae598c",
   "metadata": {},
   "source": [
    "type of strings - single line & multi line"
   ]
  },
  {
   "cell_type": "code",
   "execution_count": 12,
   "id": "c06fa210",
   "metadata": {},
   "outputs": [
    {
     "name": "stdout",
     "output_type": "stream",
     "text": [
      "hello\n"
     ]
    }
   ],
   "source": [
    "print(\"hello\")   #double and single quotees are same"
   ]
  },
  {
   "cell_type": "code",
   "execution_count": 9,
   "id": "1abb1bc4",
   "metadata": {},
   "outputs": [
    {
     "name": "stdout",
     "output_type": "stream",
     "text": [
      "hello\n"
     ]
    }
   ],
   "source": [
    "print('hello')"
   ]
  },
  {
   "cell_type": "code",
   "execution_count": 10,
   "id": "f7934737",
   "metadata": {},
   "outputs": [],
   "source": [
    "a = \"\"\" hello \n",
    "          world \"\"\""
   ]
  },
  {
   "cell_type": "code",
   "execution_count": 11,
   "id": "3cd78ae4",
   "metadata": {},
   "outputs": [
    {
     "name": "stdout",
     "output_type": "stream",
     "text": [
      " hello \n",
      "          world \n"
     ]
    }
   ],
   "source": [
    "print(a)"
   ]
  },
  {
   "cell_type": "markdown",
   "id": "83bbee19",
   "metadata": {},
   "source": [
    "string length"
   ]
  },
  {
   "cell_type": "code",
   "execution_count": 13,
   "id": "63771be2",
   "metadata": {},
   "outputs": [
    {
     "name": "stdout",
     "output_type": "stream",
     "text": [
      "11\n"
     ]
    }
   ],
   "source": [
    "a = \"hello world\"\n",
    "print(len(a))"
   ]
  },
  {
   "cell_type": "markdown",
   "id": "17fa3af3",
   "metadata": {},
   "source": [
    "in keyword\n",
    ". used to check if the thing is present in it "
   ]
  },
  {
   "cell_type": "code",
   "execution_count": 15,
   "id": "71fdf433",
   "metadata": {},
   "outputs": [
    {
     "name": "stdout",
     "output_type": "stream",
     "text": [
      "True\n"
     ]
    }
   ],
   "source": [
    "txt = \"The best things in life are free\"\n",
    "print(\"free\" in txt)"
   ]
  },
  {
   "cell_type": "markdown",
   "id": "63701fba",
   "metadata": {},
   "source": [
    "Slicing Strings"
   ]
  },
  {
   "cell_type": "markdown",
   "id": "18c95b7b",
   "metadata": {},
   "source": [
    "slice means print a range of characters in strinng"
   ]
  },
  {
   "cell_type": "markdown",
   "id": "c1fa9195",
   "metadata": {},
   "source": [
    "syntax = data[start:End]"
   ]
  },
  {
   "cell_type": "code",
   "execution_count": 16,
   "id": "91153a26",
   "metadata": {},
   "outputs": [
    {
     "data": {
      "text/plain": [
       "'Hel'"
      ]
     },
     "execution_count": 16,
     "metadata": {},
     "output_type": "execute_result"
    }
   ],
   "source": [
    "b = \"Hello world\";\n",
    "b[:3]"
   ]
  },
  {
   "cell_type": "code",
   "execution_count": 17,
   "id": "76c77bf2",
   "metadata": {},
   "outputs": [
    {
     "data": {
      "text/plain": [
       "'el'"
      ]
     },
     "execution_count": 17,
     "metadata": {},
     "output_type": "execute_result"
    }
   ],
   "source": [
    "b[1:3]"
   ]
  },
  {
   "cell_type": "markdown",
   "id": "d7969b8f",
   "metadata": {},
   "source": [
    "in negative slicing start from left"
   ]
  },
  {
   "cell_type": "code",
   "execution_count": 18,
   "id": "f3109b65",
   "metadata": {},
   "outputs": [
    {
     "data": {
      "text/plain": [
       "''"
      ]
     },
     "execution_count": 18,
     "metadata": {},
     "output_type": "execute_result"
    }
   ],
   "source": [
    "c = \"Hello World\"\n",
    "c[-1:-3]"
   ]
  },
  {
   "cell_type": "code",
   "execution_count": null,
   "id": "c24f7ba1",
   "metadata": {},
   "outputs": [],
   "source": []
  },
  {
   "cell_type": "code",
   "execution_count": 19,
   "id": "16d95d26",
   "metadata": {},
   "outputs": [
    {
     "data": {
      "text/plain": [
       "'rl'"
      ]
     },
     "execution_count": 19,
     "metadata": {},
     "output_type": "execute_result"
    }
   ],
   "source": [
    "c[-3:-1]"
   ]
  },
  {
   "cell_type": "markdown",
   "id": "89880d97",
   "metadata": {},
   "source": [
    "upper() and lower() function"
   ]
  },
  {
   "cell_type": "markdown",
   "id": "a67968d4",
   "metadata": {},
   "source": [
    "it is used to make the string into upper and lower case"
   ]
  },
  {
   "cell_type": "code",
   "execution_count": 20,
   "id": "2816eda9",
   "metadata": {},
   "outputs": [
    {
     "ename": "NameError",
     "evalue": "name 'upper' is not defined",
     "output_type": "error",
     "traceback": [
      "\u001b[1;31m---------------------------------------------------------------------------\u001b[0m",
      "\u001b[1;31mNameError\u001b[0m                                 Traceback (most recent call last)",
      "Cell \u001b[1;32mIn[20], line 2\u001b[0m\n\u001b[0;32m      1\u001b[0m c \u001b[38;5;241m=\u001b[39m \u001b[38;5;124m\"\u001b[39m\u001b[38;5;124mhello world\u001b[39m\u001b[38;5;124m\"\u001b[39m\n\u001b[1;32m----> 2\u001b[0m upper(c)\n",
      "\u001b[1;31mNameError\u001b[0m: name 'upper' is not defined"
     ]
    }
   ],
   "source": [
    "c = \"hello world\"\n",
    "upper(c)"
   ]
  },
  {
   "cell_type": "code",
   "execution_count": 21,
   "id": "11c6c775",
   "metadata": {},
   "outputs": [
    {
     "data": {
      "text/plain": [
       "'HELLO WORLD'"
      ]
     },
     "execution_count": 21,
     "metadata": {},
     "output_type": "execute_result"
    }
   ],
   "source": [
    "c.upper()"
   ]
  },
  {
   "cell_type": "code",
   "execution_count": 22,
   "id": "cc5a1eff",
   "metadata": {},
   "outputs": [
    {
     "data": {
      "text/plain": [
       "'hello world'"
      ]
     },
     "execution_count": 22,
     "metadata": {},
     "output_type": "execute_result"
    }
   ],
   "source": [
    "c"
   ]
  },
  {
   "cell_type": "code",
   "execution_count": null,
   "id": "203e2299",
   "metadata": {},
   "outputs": [],
   "source": []
  }
 ],
 "metadata": {
  "kernelspec": {
   "display_name": "base",
   "language": "python",
   "name": "python3"
  },
  "language_info": {
   "codemirror_mode": {
    "name": "ipython",
    "version": 3
   },
   "file_extension": ".py",
   "mimetype": "text/x-python",
   "name": "python",
   "nbconvert_exporter": "python",
   "pygments_lexer": "ipython3",
   "version": "3.13.5"
  }
 },
 "nbformat": 4,
 "nbformat_minor": 5
}
