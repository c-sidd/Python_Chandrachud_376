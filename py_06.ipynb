{
 "cells": [
  {
   "cell_type": "markdown",
   "id": "2a99330b",
   "metadata": {},
   "source": [
    "INPUT FUNCTION"
   ]
  },
  {
   "cell_type": "code",
   "execution_count": 1,
   "id": "053431c4",
   "metadata": {},
   "outputs": [
    {
     "name": "stdout",
     "output_type": "stream",
     "text": [
      "chandrachud siddharth\n"
     ]
    }
   ],
   "source": [
    "a = input (\"eNTER YOUR NAME\")\n",
    "print(a)"
   ]
  },
  {
   "cell_type": "code",
   "execution_count": 2,
   "id": "7f65befc",
   "metadata": {},
   "outputs": [],
   "source": [
    "#input() for version after 3.3\n",
    "#raw_input() for version before 3.0\n"
   ]
  },
  {
   "cell_type": "markdown",
   "id": "166f1eec",
   "metadata": {},
   "source": []
  },
  {
   "cell_type": "code",
   "execution_count": 4,
   "id": "1708f191",
   "metadata": {},
   "outputs": [
    {
     "name": "stdout",
     "output_type": "stream",
     "text": [
      "equal\n"
     ]
    }
   ],
   "source": [
    "#control condition\n",
    "a = int (input(\"Enter one number\"))\n",
    "b = int(input(\"enter another number\"))\n",
    "if a>b:\n",
    "    print(\"greater\")\n",
    "elif a==b:\n",
    "  print(\"equal\")\n",
    "else :\n",
    "   print(\"lesser\")\n"
   ]
  },
  {
   "cell_type": "markdown",
   "id": "6c32c181",
   "metadata": {},
   "source": [
    "# short hand if"
   ]
  },
  {
   "cell_type": "code",
   "execution_count": 8,
   "id": "647ab747",
   "metadata": {},
   "outputs": [
    {
     "name": "stdout",
     "output_type": "stream",
     "text": [
      "Greater\n"
     ]
    }
   ],
   "source": [
    "if 11>10 : print(\"Greater\")"
   ]
  },
  {
   "cell_type": "markdown",
   "id": "18bef1c1",
   "metadata": {},
   "source": [
    "# short hand if else"
   ]
  },
  {
   "cell_type": "code",
   "execution_count": 11,
   "id": "76da5957",
   "metadata": {},
   "outputs": [
    {
     "name": "stdout",
     "output_type": "stream",
     "text": [
      "a\n"
     ]
    }
   ],
   "source": [
    "a = 20\n",
    "b =3\n",
    "print(\"a\")if a>b else print(\"b\")"
   ]
  },
  {
   "cell_type": "code",
   "execution_count": 13,
   "id": "d3dbdf54",
   "metadata": {},
   "outputs": [
    {
     "name": "stdout",
     "output_type": "stream",
     "text": [
      "=\n"
     ]
    }
   ],
   "source": [
    "a = 300\n",
    "b =300\n",
    "print(\"A\") if a>b else print(\"=\") if a==b else print(\"b\")"
   ]
  },
  {
   "cell_type": "markdown",
   "id": "75844e75",
   "metadata": {},
   "source": [
    "And"
   ]
  },
  {
   "cell_type": "code",
   "execution_count": null,
   "id": "fa250ef6",
   "metadata": {},
   "outputs": [],
   "source": [
    "a = 200\n",
    "b = 30\n",
    "c = 500\n",
    "if a>b and c>a:\n",
    "    print(\"both condition are true\")\n"
   ]
  },
  {
   "cell_type": "markdown",
   "id": "94f70502",
   "metadata": {},
   "source": [
    "# nOT\n"
   ]
  },
  {
   "cell_type": "code",
   "execution_count": null,
   "id": "7fdbaab1",
   "metadata": {},
   "outputs": [],
   "source": []
  },
  {
   "cell_type": "code",
   "execution_count": null,
   "id": "49eac019",
   "metadata": {},
   "outputs": [],
   "source": []
  }
 ],
 "metadata": {
  "kernelspec": {
   "display_name": "base",
   "language": "python",
   "name": "python3"
  },
  "language_info": {
   "codemirror_mode": {
    "name": "ipython",
    "version": 3
   },
   "file_extension": ".py",
   "mimetype": "text/x-python",
   "name": "python",
   "nbconvert_exporter": "python",
   "pygments_lexer": "ipython3",
   "version": "3.13.5"
  }
 },
 "nbformat": 4,
 "nbformat_minor": 5
}
