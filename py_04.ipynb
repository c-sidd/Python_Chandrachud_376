{
 "cells": [
  {
   "cell_type": "markdown",
   "id": "5dc1752f",
   "metadata": {},
   "source": [
    "Replace a string "
   ]
  },
  {
   "cell_type": "markdown",
   "id": "3ee731ff",
   "metadata": {},
   "source": [
    "variablename.replace(\"character\",character)"
   ]
  },
  {
   "cell_type": "code",
   "execution_count": 3,
   "id": "88bbb8e3",
   "metadata": {},
   "outputs": [
    {
     "name": "stdout",
     "output_type": "stream",
     "text": [
      "heppo\n"
     ]
    }
   ],
   "source": [
    "a = \"hello\"\n",
    "\n",
    "print(a.replace(\"l\",\"p\"))"
   ]
  },
  {
   "cell_type": "markdown",
   "id": "ef29d1ee",
   "metadata": {},
   "source": [
    "split function"
   ]
  },
  {
   "cell_type": "code",
   "execution_count": 11,
   "id": "c42a2c50",
   "metadata": {},
   "outputs": [
    {
     "name": "stdout",
     "output_type": "stream",
     "text": [
      "['hello']\n"
     ]
    }
   ],
   "source": [
    "b = \"hello,world\"\n",
    "print(a.split(\",\"))"
   ]
  },
  {
   "cell_type": "markdown",
   "id": "44b79aae",
   "metadata": {},
   "source": [
    "concat strings"
   ]
  },
  {
   "cell_type": "code",
   "execution_count": 9,
   "id": "c5b1eca4",
   "metadata": {},
   "outputs": [
    {
     "data": {
      "text/plain": [
       "'chandrachudsiddharth'"
      ]
     },
     "execution_count": 9,
     "metadata": {},
     "output_type": "execute_result"
    }
   ],
   "source": [
    "name = \"chandrachud\"\n",
    "last = \"siddharth\"\n",
    "name+last"
   ]
  },
  {
   "cell_type": "markdown",
   "id": "9393c3fd",
   "metadata": {},
   "source": [
    "Format - strings"
   ]
  },
  {
   "cell_type": "markdown",
   "id": "d7539f6a",
   "metadata": {},
   "source": [
    "it is like adding string without using +  like in javascript, using f\"string {another value}\""
   ]
  },
  {
   "cell_type": "code",
   "execution_count": 8,
   "id": "7342b708",
   "metadata": {},
   "outputs": [
    {
     "name": "stdout",
     "output_type": "stream",
     "text": [
      "mu name is john , i am 25\n"
     ]
    }
   ],
   "source": [
    "age = 25\n",
    "txt = f\"mu name is john , i am {age}\"\n",
    "print(txt)"
   ]
  },
  {
   "cell_type": "markdown",
   "id": "80633e8f",
   "metadata": {},
   "source": [
    "Python Booleans"
   ]
  },
  {
   "cell_type": "code",
   "execution_count": 13,
   "id": "4679c37d",
   "metadata": {},
   "outputs": [
    {
     "name": "stdout",
     "output_type": "stream",
     "text": [
      "True\n"
     ]
    }
   ],
   "source": [
    "print(10>9)"
   ]
  },
  {
   "cell_type": "code",
   "execution_count": 14,
   "id": "0ba1f995",
   "metadata": {},
   "outputs": [
    {
     "name": "stdout",
     "output_type": "stream",
     "text": [
      "A\n"
     ]
    }
   ],
   "source": [
    "if 10 > 9:\n",
    "    print(\"A\")\n",
    "else :\n",
    "    print()"
   ]
  },
  {
   "cell_type": "markdown",
   "id": "65efe440",
   "metadata": {},
   "source": [
    "sequence data types \n",
    "list - [] - string value in single quotes and integer without quotes\n",
    "tuple - ()\n",
    "dictionary - {}\n"
   ]
  },
  {
   "cell_type": "code",
   "execution_count": 20,
   "id": "85acb49f",
   "metadata": {},
   "outputs": [
    {
     "name": "stdout",
     "output_type": "stream",
     "text": [
      "abcd\n"
     ]
    }
   ],
   "source": [
    "list1 =['abcd',786,'hello',765,'c']\n",
    "print(list1[0])"
   ]
  },
  {
   "cell_type": "code",
   "execution_count": 21,
   "id": "7f4a6092",
   "metadata": {},
   "outputs": [
    {
     "name": "stdout",
     "output_type": "stream",
     "text": [
      "('hello', 'world')\n"
     ]
    }
   ],
   "source": [
    "tuple= ('hello','world')\n",
    "newtuple = ('heolo')\n",
    "print(tuple\n",
    "      )"
   ]
  },
  {
   "cell_type": "code",
   "execution_count": 23,
   "id": "ecb1c3d6",
   "metadata": {},
   "outputs": [
    {
     "name": "stdout",
     "output_type": "stream",
     "text": [
      "hello\n"
     ]
    }
   ],
   "source": [
    "print(tuple[0])"
   ]
  },
  {
   "cell_type": "markdown",
   "id": "ae865ece",
   "metadata": {},
   "source": [
    "## 🔹 List\n",
    "A list is an **ordered**, **mutable** collection that can hold mixed data types.\n",
    "\n",
    "### ✅ Features\n",
    "- Ordered\n",
    "- Mutable\n",
    "- Allows duplicates\n",
    "- Supports indexing and slicing"
   ]
  },
  {
   "cell_type": "code",
   "execution_count": 24,
   "id": "38533c9d",
   "metadata": {},
   "outputs": [
    {
     "name": "stdout",
     "output_type": "stream",
     "text": [
      "First element: 10\n",
      "Slice: [99, 'Python', True]\n",
      "Updated List: [10, 99, 'Python', True, 'New Item']\n"
     ]
    }
   ],
   "source": [
    "# Creating a list\n",
    "my_list = [10, 20, 30, \"Python\", True]\n",
    "\n",
    "# Accessing elements\n",
    "print(\"First element:\", my_list[0])\n",
    "\n",
    "# Modifying elements\n",
    "my_list[2] = 99\n",
    "\n",
    "# Adding elements\n",
    "my_list.append(\"New Item\")\n",
    "\n",
    "# Removing elements\n",
    "my_list.remove(20)\n",
    "\n",
    "# Slicing\n",
    "print(\"Slice:\", my_list[1:4])\n",
    "\n",
    "# Final list\n",
    "print(\"Updated List:\", my_list)"
   ]
  },
  {
   "cell_type": "markdown",
   "id": "098e9d60",
   "metadata": {},
   "source": [
    "## 🔗 Tuple\n",
    "A tuple is an **ordered**, **immutable** collection. Use it when data shouldn't change.\n",
    "\n",
    "### ✅ Features\n",
    "- Ordered\n",
    "- Immutable\n",
    "- Allows duplicates\n",
    "- Supports indexing and unpacking"
   ]
  },
  {
   "cell_type": "code",
   "execution_count": 26,
   "id": "dc3bde99",
   "metadata": {},
   "outputs": [
    {
     "name": "stdout",
     "output_type": "stream",
     "text": [
      "Tuple element: Immutable\n",
      "Unpacked values: 1 2 3\n"
     ]
    }
   ],
   "source": [
    "# Creating a tuple\n",
    "my_tuple = (1, 2, 3, \"Immutable\", False)\n",
    "\n",
    "# Accessing elements\n",
    "print(\"Tuple element:\", my_tuple[3])\n",
    "\n",
    "# Tuple unpacking\n",
    "a, b, c, _, _ = my_tuple\n",
    "print(\"Unpacked values:\", a, b, c)\n",
    "\n",
    "# Trying to modify (will raise error)\n",
    "# my_tuple[0] = 100  # ❌ TypeError"
   ]
  },
  {
   "cell_type": "markdown",
   "id": "329be406",
   "metadata": {},
   "source": [
    "## 🧠 Dictionary\n",
    "A dictionary stores data as **key-value pairs**. Keys must be unique and immutable.\n",
    "\n",
    "### ✅ Features\n",
    "- Mutable\n",
    "- Insertion ordered (Python 3.7+)\n",
    "- Keys must be unique\n",
    "- Values can be any type"
   ]
  },
  {
   "cell_type": "markdown",
   "id": "00ec7eb9",
   "metadata": {},
   "source": []
  },
  {
   "cell_type": "code",
   "execution_count": 25,
   "id": "4b778687",
   "metadata": {},
   "outputs": [
    {
     "name": "stdout",
     "output_type": "stream",
     "text": [
      "Name: Chandrachud\n",
      "Editor: VS Code\n",
      "Updated Dictionary: {'name': 'Chandrachud', 'version': 3.12, 'editor': 'VS Code'}\n"
     ]
    }
   ],
   "source": [
    "# Creating a dictionary\n",
    "my_dict = {\n",
    "    \"name\": \"Chandrachud\",\n",
    "    \"language\": \"Python\",\n",
    "    \"version\": 3.11\n",
    "}\n",
    "\n",
    "# Accessing values\n",
    "print(\"Name:\", my_dict[\"name\"])\n",
    "\n",
    "# Adding new key-value pair\n",
    "my_dict[\"editor\"] = \"VS Code\"\n",
    "\n",
    "# Updating value\n",
    "my_dict[\"version\"] = 3.12\n",
    "\n",
    "# Removing a key\n",
    "del my_dict[\"language\"]\n",
    "\n",
    "# Safe access\n",
    "print(\"Editor:\", my_dict.get(\"editor\"))\n",
    "\n",
    "# Final dictionary\n",
    "print(\"Updated Dictionary:\", my_dict)"
   ]
  },
  {
   "cell_type": "code",
   "execution_count": 28,
   "id": "8b8423f7",
   "metadata": {},
   "outputs": [
    {
     "name": "stdout",
     "output_type": "stream",
     "text": [
      "hello \n"
     ]
    }
   ],
   "source": [
    "my_list = ['hello ',98 ,'jidis',78]\n",
    "print(my_list[0])"
   ]
  },
  {
   "cell_type": "code",
   "execution_count": 29,
   "id": "ca3ed1c1",
   "metadata": {},
   "outputs": [
    {
     "name": "stdout",
     "output_type": "stream",
     "text": [
      "[98, 'jidis']\n"
     ]
    }
   ],
   "source": [
    "print(my_list[1:3])"
   ]
  },
  {
   "cell_type": "code",
   "execution_count": 34,
   "id": "8bbd613f",
   "metadata": {},
   "outputs": [],
   "source": [
    "my_list.append(89)"
   ]
  },
  {
   "cell_type": "code",
   "execution_count": 35,
   "id": "3e96e7a5",
   "metadata": {},
   "outputs": [
    {
     "name": "stdout",
     "output_type": "stream",
     "text": [
      "['hello ', 98, 'jidis', 78, 89, 89, 89, 89]\n"
     ]
    }
   ],
   "source": [
    "print(my_list)"
   ]
  },
  {
   "cell_type": "code",
   "execution_count": 36,
   "id": "25329f98",
   "metadata": {},
   "outputs": [],
   "source": [
    "new = [78,76]"
   ]
  },
  {
   "cell_type": "code",
   "execution_count": null,
   "id": "0b7d2c2e",
   "metadata": {},
   "outputs": [
    {
     "name": "stdout",
     "output_type": "stream",
     "text": [
      "['hello ', 98, 'jidis', 78, 89, 89, 89, 89, 78, 76]\n"
     ]
    }
   ],
   "source": [
    "print(my_list+new)  # adding two list"
   ]
  },
  {
   "cell_type": "code",
   "execution_count": 42,
   "id": "7490ca51",
   "metadata": {},
   "outputs": [
    {
     "data": {
      "text/plain": [
       "89"
      ]
     },
     "execution_count": 42,
     "metadata": {},
     "output_type": "execute_result"
    }
   ],
   "source": [
    "my_list.pop()"
   ]
  },
  {
   "cell_type": "code",
   "execution_count": 43,
   "id": "46ebefb5",
   "metadata": {},
   "outputs": [
    {
     "name": "stdout",
     "output_type": "stream",
     "text": [
      "['hello ', 98, 'jidis', 78, 89]\n"
     ]
    }
   ],
   "source": [
    "print(my_list)"
   ]
  },
  {
   "cell_type": "code",
   "execution_count": 44,
   "id": "d91d9b05",
   "metadata": {},
   "outputs": [
    {
     "ename": "TypeError",
     "evalue": "'<' not supported between instances of 'int' and 'str'",
     "output_type": "error",
     "traceback": [
      "\u001b[1;31m---------------------------------------------------------------------------\u001b[0m",
      "\u001b[1;31mTypeError\u001b[0m                                 Traceback (most recent call last)",
      "Cell \u001b[1;32mIn[44], line 1\u001b[0m\n\u001b[1;32m----> 1\u001b[0m my_list\u001b[38;5;241m.\u001b[39msort()\n",
      "\u001b[1;31mTypeError\u001b[0m: '<' not supported between instances of 'int' and 'str'"
     ]
    }
   ],
   "source": [
    "my_list.sort()"
   ]
  },
  {
   "cell_type": "code",
   "execution_count": 45,
   "id": "bb47bdb9",
   "metadata": {},
   "outputs": [],
   "source": [
    "my_list.reverse()"
   ]
  },
  {
   "cell_type": "code",
   "execution_count": 46,
   "id": "df1ca030",
   "metadata": {},
   "outputs": [
    {
     "name": "stdout",
     "output_type": "stream",
     "text": [
      "[89, 78, 'jidis', 98, 'hello ']\n"
     ]
    }
   ],
   "source": [
    "print(my_list)"
   ]
  },
  {
   "cell_type": "code",
   "execution_count": null,
   "id": "48378e0b",
   "metadata": {},
   "outputs": [],
   "source": []
  }
 ],
 "metadata": {
  "kernelspec": {
   "display_name": "base",
   "language": "python",
   "name": "python3"
  },
  "language_info": {
   "codemirror_mode": {
    "name": "ipython",
    "version": 3
   },
   "file_extension": ".py",
   "mimetype": "text/x-python",
   "name": "python",
   "nbconvert_exporter": "python",
   "pygments_lexer": "ipython3",
   "version": "3.13.5"
  }
 },
 "nbformat": 4,
 "nbformat_minor": 5
}
