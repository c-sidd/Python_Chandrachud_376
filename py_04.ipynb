{
 "cells": [
  {
   "cell_type": "markdown",
   "id": "5dc1752f",
   "metadata": {},
   "source": [
    "Replace a string "
   ]
  },
  {
   "cell_type": "markdown",
   "id": "3ee731ff",
   "metadata": {},
   "source": [
    "variablename.replace(\"character\",character)"
   ]
  },
  {
   "cell_type": "code",
   "execution_count": 3,
   "id": "88bbb8e3",
   "metadata": {},
   "outputs": [
    {
     "name": "stdout",
     "output_type": "stream",
     "text": [
      "heppo\n"
     ]
    }
   ],
   "source": [
    "a = \"hello\"\n",
    "\n",
    "print(a.replace(\"l\",\"p\"))"
   ]
  },
  {
   "cell_type": "markdown",
   "id": "ef29d1ee",
   "metadata": {},
   "source": [
    "split function"
   ]
  },
  {
   "cell_type": "code",
   "execution_count": 11,
   "id": "c42a2c50",
   "metadata": {},
   "outputs": [
    {
     "name": "stdout",
     "output_type": "stream",
     "text": [
      "['hello']\n"
     ]
    }
   ],
   "source": [
    "b = \"hello,world\"\n",
    "print(a.split(\",\"))"
   ]
  },
  {
   "cell_type": "markdown",
   "id": "44b79aae",
   "metadata": {},
   "source": [
    "concat strings"
   ]
  },
  {
   "cell_type": "code",
   "execution_count": 9,
   "id": "c5b1eca4",
   "metadata": {},
   "outputs": [
    {
     "data": {
      "text/plain": [
       "'chandrachudsiddharth'"
      ]
     },
     "execution_count": 9,
     "metadata": {},
     "output_type": "execute_result"
    }
   ],
   "source": [
    "name = \"chandrachud\"\n",
    "last = \"siddharth\"\n",
    "name+last"
   ]
  },
  {
   "cell_type": "markdown",
   "id": "9393c3fd",
   "metadata": {},
   "source": [
    "Format - strings"
   ]
  },
  {
   "cell_type": "markdown",
   "id": "d7539f6a",
   "metadata": {},
   "source": [
    "it is like adding string without using +  like in javascript, using f\"string {another value}\""
   ]
  },
  {
   "cell_type": "code",
   "execution_count": 8,
   "id": "7342b708",
   "metadata": {},
   "outputs": [
    {
     "name": "stdout",
     "output_type": "stream",
     "text": [
      "mu name is john , i am 25\n"
     ]
    }
   ],
   "source": [
    "age = 25\n",
    "txt = f\"mu name is john , i am {age}\"\n",
    "print(txt)"
   ]
  },
  {
   "cell_type": "markdown",
   "id": "80633e8f",
   "metadata": {},
   "source": [
    "Python Booleans"
   ]
  },
  {
   "cell_type": "code",
   "execution_count": 13,
   "id": "4679c37d",
   "metadata": {},
   "outputs": [
    {
     "name": "stdout",
     "output_type": "stream",
     "text": [
      "True\n"
     ]
    }
   ],
   "source": [
    "print(10>9)"
   ]
  },
  {
   "cell_type": "code",
   "execution_count": 14,
   "id": "0ba1f995",
   "metadata": {},
   "outputs": [
    {
     "name": "stdout",
     "output_type": "stream",
     "text": [
      "A\n"
     ]
    }
   ],
   "source": [
    "if 10 > 9:\n",
    "    print(\"A\")\n",
    "else :\n",
    "    print()"
   ]
  },
  {
   "cell_type": "markdown",
   "id": "65efe440",
   "metadata": {},
   "source": [
    "sequence data types \n",
    "list - [] - string value in single quotes and integer without quotes\n",
    "tuple - ()\n",
    "dictionary - {}\n"
   ]
  },
  {
   "cell_type": "code",
   "execution_count": 20,
   "id": "85acb49f",
   "metadata": {},
   "outputs": [
    {
     "name": "stdout",
     "output_type": "stream",
     "text": [
      "abcd\n"
     ]
    }
   ],
   "source": [
    "list1 =['abcd',786,'hello',765,'c']\n",
    "print(list1[0])"
   ]
  },
  {
   "cell_type": "code",
   "execution_count": 21,
   "id": "7f4a6092",
   "metadata": {},
   "outputs": [
    {
     "name": "stdout",
     "output_type": "stream",
     "text": [
      "('hello', 'world')\n"
     ]
    }
   ],
   "source": [
    "tuple= ('hello','world')\n",
    "newtuple = ('heolo')\n",
    "print(tuple\n",
    "      )"
   ]
  },
  {
   "cell_type": "code",
   "execution_count": 23,
   "id": "ecb1c3d6",
   "metadata": {},
   "outputs": [
    {
     "name": "stdout",
     "output_type": "stream",
     "text": [
      "hello\n"
     ]
    }
   ],
   "source": [
    "print(tuple[0])"
   ]
  },
  {
   "cell_type": "markdown",
   "id": "00ec7eb9",
   "metadata": {},
   "source": []
  }
 ],
 "metadata": {
  "kernelspec": {
   "display_name": "base",
   "language": "python",
   "name": "python3"
  },
  "language_info": {
   "codemirror_mode": {
    "name": "ipython",
    "version": 3
   },
   "file_extension": ".py",
   "mimetype": "text/x-python",
   "name": "python",
   "nbconvert_exporter": "python",
   "pygments_lexer": "ipython3",
   "version": "3.13.5"
  }
 },
 "nbformat": 4,
 "nbformat_minor": 5
}
