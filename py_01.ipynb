{
 "cells": [
  {
   "cell_type": "code",
   "execution_count": 2,
   "id": "e791e9f9-12ff-42b8-9d9f-adb6f5c8cb29",
   "metadata": {},
   "outputs": [
    {
     "name": "stdout",
     "output_type": "stream",
     "text": [
      "3.13.5 | packaged by Anaconda, Inc. | (main, Jun 12 2025, 16:37:03) [MSC v.1929 64 bit (AMD64)]\n"
     ]
    }
   ],
   "source": [
    "import sys \n",
    "print(sys.version)"
   ]
  },
  {
   "cell_type": "code",
   "execution_count": 3,
   "id": "f2a0b650-65d9-4d07-8df9-85652b03fd41",
   "metadata": {},
   "outputs": [],
   "source": [
    "# this is comment\n"
   ]
  },
  {
   "cell_type": "code",
   "execution_count": 4,
   "id": "b48e1c21-f91f-4e8c-b8d1-129d68208bf6",
   "metadata": {},
   "outputs": [],
   "source": [
    "a = 6\n"
   ]
  },
  {
   "cell_type": "code",
   "execution_count": 5,
   "id": "ae7e25e7-91fa-4aee-88c8-2e9aaf818593",
   "metadata": {},
   "outputs": [
    {
     "name": "stdout",
     "output_type": "stream",
     "text": [
      "6\n"
     ]
    }
   ],
   "source": [
    "print(a)"
   ]
  },
  {
   "cell_type": "code",
   "execution_count": 6,
   "id": "1e2b506c-9f69-4ba2-9808-469d4b18f83a",
   "metadata": {},
   "outputs": [
    {
     "data": {
      "text/plain": [
       "6"
      ]
     },
     "execution_count": 6,
     "metadata": {},
     "output_type": "execute_result"
    }
   ],
   "source": [
    "a"
   ]
  },
  {
   "cell_type": "code",
   "execution_count": 11,
   "id": "4a094f88-8cd4-4bf4-a716-71c3b282f010",
   "metadata": {},
   "outputs": [
    {
     "data": {
      "text/plain": [
       "int"
      ]
     },
     "execution_count": 11,
     "metadata": {},
     "output_type": "execute_result"
    }
   ],
   "source": [
    "type(a)#this function gives the data type"
   ]
  },
  {
   "cell_type": "code",
   "execution_count": 9,
   "id": "8d26ead6-f23b-4e71-b4af-97ef4c44da00",
   "metadata": {},
   "outputs": [
    {
     "data": {
      "text/plain": [
       "140719203398728"
      ]
     },
     "execution_count": 9,
     "metadata": {},
     "output_type": "execute_result"
    }
   ],
   "source": [
    "id(a)#this give the memory address of data\n"
   ]
  },
  {
   "cell_type": "code",
   "execution_count": 10,
   "id": "bdc85a7f-f67e-4bad-a807-ed85cce4b8ff",
   "metadata": {},
   "outputs": [],
   "source": [
    "#variable cases\n",
    "# camel case = myVariable\n",
    "# snake case = my_variable\n",
    "# pascal case = MyVariable"
   ]
  },
  {
   "cell_type": "code",
   "execution_count": 12,
   "id": "b9ed5ce0-1fff-4bab-855b-e669d239c531",
   "metadata": {},
   "outputs": [],
   "source": [
    "a,b,c=5,7,9 # assigning all variable"
   ]
  },
  {
   "cell_type": "code",
   "execution_count": 13,
   "id": "3bbb4432-f7ee-4edd-b7e9-d3fcf1932384",
   "metadata": {},
   "outputs": [
    {
     "name": "stdout",
     "output_type": "stream",
     "text": [
      "5\n"
     ]
    }
   ],
   "source": [
    "print(a)\n"
   ]
  },
  {
   "cell_type": "code",
   "execution_count": 14,
   "id": "eb47e79b-bd37-421c-b745-fd275a842bcf",
   "metadata": {},
   "outputs": [
    {
     "name": "stdout",
     "output_type": "stream",
     "text": [
      "7\n"
     ]
    }
   ],
   "source": [
    "print(b)"
   ]
  },
  {
   "cell_type": "code",
   "execution_count": 15,
   "id": "2250aaa4-89f4-4e13-8d6b-54948ad0e514",
   "metadata": {},
   "outputs": [
    {
     "name": "stdout",
     "output_type": "stream",
     "text": [
      "9\n"
     ]
    }
   ],
   "source": [
    "print(c)\n"
   ]
  },
  {
   "cell_type": "code",
   "execution_count": 16,
   "id": "fd8193e0-baeb-41dd-8476-cd6b1db40bbc",
   "metadata": {},
   "outputs": [],
   "source": [
    "del(a) #deleting a variable"
   ]
  },
  {
   "cell_type": "code",
   "execution_count": 17,
   "id": "c4e97fcb-c937-4c3c-b7ad-2c625a9e4db1",
   "metadata": {},
   "outputs": [
    {
     "ename": "NameError",
     "evalue": "name 'a' is not defined",
     "output_type": "error",
     "traceback": [
      "\u001b[1;31m---------------------------------------------------------------------------\u001b[0m",
      "\u001b[1;31mNameError\u001b[0m                                 Traceback (most recent call last)",
      "Cell \u001b[1;32mIn[17], line 1\u001b[0m\n\u001b[1;32m----> 1\u001b[0m \u001b[38;5;28mprint\u001b[39m(a)\n",
      "\u001b[1;31mNameError\u001b[0m: name 'a' is not defined"
     ]
    }
   ],
   "source": [
    "print(a)"
   ]
  },
  {
   "cell_type": "code",
   "execution_count": 18,
   "id": "1278f3b8-c750-409a-8bbf-7ead096716fc",
   "metadata": {},
   "outputs": [
    {
     "data": {
      "text/plain": [
       "18"
      ]
     },
     "execution_count": 18,
     "metadata": {},
     "output_type": "execute_result"
    }
   ],
   "source": [
    "18"
   ]
  },
  {
   "cell_type": "code",
   "execution_count": 19,
   "id": "a05bc7be-9f69-49a0-b5a5-feb86706c25d",
   "metadata": {},
   "outputs": [
    {
     "data": {
      "text/plain": [
       "140719203399112"
      ]
     },
     "execution_count": 19,
     "metadata": {},
     "output_type": "execute_result"
    }
   ],
   "source": [
    "id(18)"
   ]
  },
  {
   "cell_type": "code",
   "execution_count": 20,
   "id": "9b07b5c2-b391-4c94-b929-37ea76a60236",
   "metadata": {},
   "outputs": [
    {
     "data": {
      "text/plain": [
       "int"
      ]
     },
     "execution_count": 20,
     "metadata": {},
     "output_type": "execute_result"
    }
   ],
   "source": [
    "type(18)\n"
   ]
  },
  {
   "cell_type": "code",
   "execution_count": 21,
   "id": "ab3d077e-d182-4040-a392-600a2bf51388",
   "metadata": {},
   "outputs": [
    {
     "ename": "SyntaxError",
     "evalue": "cannot delete literal (2874631695.py, line 1)",
     "output_type": "error",
     "traceback": [
      "\u001b[1;36m  Cell \u001b[1;32mIn[21], line 1\u001b[1;36m\u001b[0m\n\u001b[1;33m    del(18)\u001b[0m\n\u001b[1;37m        ^\u001b[0m\n\u001b[1;31mSyntaxError\u001b[0m\u001b[1;31m:\u001b[0m cannot delete literal\n"
     ]
    }
   ],
   "source": [
    "del(18)"
   ]
  },
  {
   "cell_type": "code",
   "execution_count": 1,
   "id": "7c60958f-bbbb-48aa-8de7-ddd0ae18bb36",
   "metadata": {},
   "outputs": [
    {
     "ename": "NameError",
     "evalue": "name 'b' is not defined",
     "output_type": "error",
     "traceback": [
      "\u001b[1;31m---------------------------------------------------------------------------\u001b[0m",
      "\u001b[1;31mNameError\u001b[0m                                 Traceback (most recent call last)",
      "Cell \u001b[1;32mIn[1], line 1\u001b[0m\n\u001b[1;32m----> 1\u001b[0m \u001b[38;5;28mprint\u001b[39m(b)\n",
      "\u001b[1;31mNameError\u001b[0m: name 'b' is not defined"
     ]
    }
   ],
   "source": [
    "print(b)"
   ]
  },
  {
   "cell_type": "code",
   "execution_count": 3,
   "id": "d5ebd153",
   "metadata": {},
   "outputs": [
    {
     "name": "stdout",
     "output_type": "stream",
     "text": [
      "pass\n"
     ]
    }
   ],
   "source": [
    "print(\"pass\")"
   ]
  },
  {
   "cell_type": "code",
   "execution_count": null,
   "id": "8b7aaac7",
   "metadata": {},
   "outputs": [],
   "source": []
  }
 ],
 "metadata": {
  "kernelspec": {
   "display_name": "base",
   "language": "python",
   "name": "python3"
  },
  "language_info": {
   "codemirror_mode": {
    "name": "ipython",
    "version": 3
   },
   "file_extension": ".py",
   "mimetype": "text/x-python",
   "name": "python",
   "nbconvert_exporter": "python",
   "pygments_lexer": "ipython3",
   "version": "3.13.5"
  }
 },
 "nbformat": 4,
 "nbformat_minor": 5
}
