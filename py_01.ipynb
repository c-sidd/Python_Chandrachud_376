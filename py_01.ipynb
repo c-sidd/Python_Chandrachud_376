{
 "cells": [
  {
   "cell_type": "code",
   "execution_count": 2,
   "id": "e791e9f9-12ff-42b8-9d9f-adb6f5c8cb29",
   "metadata": {},
   "outputs": [
    {
     "name": "stdout",
     "output_type": "stream",
     "text": [
      "3.13.5 | packaged by Anaconda, Inc. | (main, Jun 12 2025, 16:37:03) [MSC v.1929 64 bit (AMD64)]\n"
     ]
    }
   ],
   "source": [
    "import sys \n",
    "print(sys.version)"
   ]
  },
  {
   "cell_type": "code",
   "execution_count": 3,
   "id": "f2a0b650-65d9-4d07-8df9-85652b03fd41",
   "metadata": {},
   "outputs": [],
   "source": [
    "# this is comment\n"
   ]
  },
  {
   "cell_type": "code",
   "execution_count": 4,
   "id": "b48e1c21-f91f-4e8c-b8d1-129d68208bf6",
   "metadata": {},
   "outputs": [],
   "source": [
    "a = 6\n"
   ]
  },
  {
   "cell_type": "code",
   "execution_count": 5,
   "id": "ae7e25e7-91fa-4aee-88c8-2e9aaf818593",
   "metadata": {},
   "outputs": [
    {
     "name": "stdout",
     "output_type": "stream",
     "text": [
      "6\n"
     ]
    }
   ],
   "source": [
    "print(a)"
   ]
  },
  {
   "cell_type": "code",
   "execution_count": 6,
   "id": "1e2b506c-9f69-4ba2-9808-469d4b18f83a",
   "metadata": {},
   "outputs": [
    {
     "data": {
      "text/plain": [
       "6"
      ]
     },
     "execution_count": 6,
     "metadata": {},
     "output_type": "execute_result"
    }
   ],
   "source": [
    "a"
   ]
  },
  {
   "cell_type": "code",
   "execution_count": 11,
   "id": "4a094f88-8cd4-4bf4-a716-71c3b282f010",
   "metadata": {},
   "outputs": [
    {
     "data": {
      "text/plain": [
       "int"
      ]
     },
     "execution_count": 11,
     "metadata": {},
     "output_type": "execute_result"
    }
   ],
   "source": [
    "type(a)#this function gives the data type"
   ]
  },
  {
   "cell_type": "code",
   "execution_count": 9,
   "id": "8d26ead6-f23b-4e71-b4af-97ef4c44da00",
   "metadata": {},
   "outputs": [
    {
     "data": {
      "text/plain": [
       "140719203398728"
      ]
     },
     "execution_count": 9,
     "metadata": {},
     "output_type": "execute_result"
    }
   ],
   "source": [
    "id(a)#this give the memory address of data\n"
   ]
  },
  {
   "cell_type": "code",
   "execution_count": 10,
   "id": "bdc85a7f-f67e-4bad-a807-ed85cce4b8ff",
   "metadata": {},
   "outputs": [],
   "source": [
    "#variable cases\n",
    "# camel case = myVariable\n",
    "# snake case = my_variable\n",
    "# pascal case = MyVariable"
   ]
  },
  {
   "cell_type": "code",
   "execution_count": 12,
   "id": "b9ed5ce0-1fff-4bab-855b-e669d239c531",
   "metadata": {},
   "outputs": [],
   "source": [
    "a,b,c=5,7,9 # assigning all variable"
   ]
  },
  {
   "cell_type": "code",
   "execution_count": 13,
   "id": "3bbb4432-f7ee-4edd-b7e9-d3fcf1932384",
   "metadata": {},
   "outputs": [
    {
     "name": "stdout",
     "output_type": "stream",
     "text": [
      "5\n"
     ]
    }
   ],
   "source": [
    "print(a)\n"
   ]
  },
  {
   "cell_type": "code",
   "execution_count": 14,
   "id": "eb47e79b-bd37-421c-b745-fd275a842bcf",
   "metadata": {},
   "outputs": [
    {
     "name": "stdout",
     "output_type": "stream",
     "text": [
      "7\n"
     ]
    }
   ],
   "source": [
    "print(b)"
   ]
  },
  {
   "cell_type": "code",
   "execution_count": 15,
   "id": "2250aaa4-89f4-4e13-8d6b-54948ad0e514",
   "metadata": {},
   "outputs": [
    {
     "name": "stdout",
     "output_type": "stream",
     "text": [
      "9\n"
     ]
    }
   ],
   "source": [
    "print(c)\n"
   ]
  },
  {
   "cell_type": "code",
   "execution_count": 16,
   "id": "fd8193e0-baeb-41dd-8476-cd6b1db40bbc",
   "metadata": {},
   "outputs": [],
   "source": [
    "del(a) #deleting a variable"
   ]
  },
  {
   "cell_type": "code",
   "execution_count": 17,
   "id": "c4e97fcb-c937-4c3c-b7ad-2c625a9e4db1",
   "metadata": {},
   "outputs": [
    {
     "ename": "NameError",
     "evalue": "name 'a' is not defined",
     "output_type": "error",
     "traceback": [
      "\u001b[1;31m---------------------------------------------------------------------------\u001b[0m",
      "\u001b[1;31mNameError\u001b[0m                                 Traceback (most recent call last)",
      "Cell \u001b[1;32mIn[17], line 1\u001b[0m\n\u001b[1;32m----> 1\u001b[0m \u001b[38;5;28mprint\u001b[39m(a)\n",
      "\u001b[1;31mNameError\u001b[0m: name 'a' is not defined"
     ]
    }
   ],
   "source": [
    "print(a)"
   ]
  },
  {
   "cell_type": "code",
   "execution_count": 18,
   "id": "1278f3b8-c750-409a-8bbf-7ead096716fc",
   "metadata": {},
   "outputs": [
    {
     "data": {
      "text/plain": [
       "18"
      ]
     },
     "execution_count": 18,
     "metadata": {},
     "output_type": "execute_result"
    }
   ],
   "source": [
    "18"
   ]
  },
  {
   "cell_type": "code",
   "execution_count": 19,
   "id": "a05bc7be-9f69-49a0-b5a5-feb86706c25d",
   "metadata": {},
   "outputs": [
    {
     "data": {
      "text/plain": [
       "140719203399112"
      ]
     },
     "execution_count": 19,
     "metadata": {},
     "output_type": "execute_result"
    }
   ],
   "source": [
    "id(18)"
   ]
  },
  {
   "cell_type": "code",
   "execution_count": 20,
   "id": "9b07b5c2-b391-4c94-b929-37ea76a60236",
   "metadata": {},
   "outputs": [
    {
     "data": {
      "text/plain": [
       "int"
      ]
     },
     "execution_count": 20,
     "metadata": {},
     "output_type": "execute_result"
    }
   ],
   "source": [
    "type(18)\n"
   ]
  },
  {
   "cell_type": "code",
   "execution_count": 21,
   "id": "ab3d077e-d182-4040-a392-600a2bf51388",
   "metadata": {},
   "outputs": [
    {
     "ename": "SyntaxError",
     "evalue": "cannot delete literal (2874631695.py, line 1)",
     "output_type": "error",
     "traceback": [
      "\u001b[1;36m  Cell \u001b[1;32mIn[21], line 1\u001b[1;36m\u001b[0m\n\u001b[1;33m    del(18)\u001b[0m\n\u001b[1;37m        ^\u001b[0m\n\u001b[1;31mSyntaxError\u001b[0m\u001b[1;31m:\u001b[0m cannot delete literal\n"
     ]
    }
   ],
   "source": [
    "del(18)"
   ]
  },
  {
   "cell_type": "code",
   "execution_count": 1,
   "id": "7c60958f-bbbb-48aa-8de7-ddd0ae18bb36",
   "metadata": {},
   "outputs": [
    {
     "ename": "NameError",
     "evalue": "name 'b' is not defined",
     "output_type": "error",
     "traceback": [
      "\u001b[1;31m---------------------------------------------------------------------------\u001b[0m",
      "\u001b[1;31mNameError\u001b[0m                                 Traceback (most recent call last)",
      "Cell \u001b[1;32mIn[1], line 1\u001b[0m\n\u001b[1;32m----> 1\u001b[0m \u001b[38;5;28mprint\u001b[39m(b)\n",
      "\u001b[1;31mNameError\u001b[0m: name 'b' is not defined"
     ]
    }
   ],
   "source": [
    "print(b)"
   ]
  },
  {
   "cell_type": "code",
   "execution_count": 3,
   "id": "d5ebd153",
   "metadata": {},
   "outputs": [
    {
     "name": "stdout",
     "output_type": "stream",
     "text": [
      "pass\n"
     ]
    }
   ],
   "source": [
    "print(\"pass\")"
   ]
  },
  {
   "cell_type": "code",
   "execution_count": 1,
   "id": "20128be7-1a05-417e-8c91-2f2ab342185a",
   "metadata": {},
   "outputs": [],
   "source": [
    "#day - 2"
   ]
  },
  {
   "cell_type": "code",
   "execution_count": 2,
   "id": "18f6e895-919a-445c-8c5e-a2640d0ef6f6",
   "metadata": {},
   "outputs": [],
   "source": [
    "#casting same like type casting in c"
   ]
  },
  {
   "cell_type": "code",
   "execution_count": 3,
   "id": "d5fbcc0a-9b1a-41ae-9ba7-0b4f66a0f6b3",
   "metadata": {},
   "outputs": [
    {
     "ename": "SyntaxError",
     "evalue": "invalid syntax (717584941.py, line 1)",
     "output_type": "error",
     "traceback": [
      "\u001b[1;36m  Cell \u001b[1;32mIn[3], line 1\u001b[1;36m\u001b[0m\n\u001b[1;33m    int a = 5\u001b[0m\n\u001b[1;37m        ^\u001b[0m\n\u001b[1;31mSyntaxError\u001b[0m\u001b[1;31m:\u001b[0m invalid syntax\n"
     ]
    }
   ],
   "source": [
    "int a = 5\n",
    "  "
   ]
  },
  {
   "cell_type": "code",
   "execution_count": 4,
   "id": "214a8eb8-a7a5-47e5-842d-b04563a18927",
   "metadata": {},
   "outputs": [],
   "source": [
    "a = 5;\n"
   ]
  },
  {
   "cell_type": "code",
   "execution_count": 5,
   "id": "965bc785-d376-47ac-9a9a-14df389f1de6",
   "metadata": {},
   "outputs": [
    {
     "name": "stdout",
     "output_type": "stream",
     "text": [
      "5\n"
     ]
    }
   ],
   "source": [
    "print(a)"
   ]
  },
  {
   "cell_type": "code",
   "execution_count": 6,
   "id": "05c630df-b559-465e-a48d-fe8466c7eac2",
   "metadata": {},
   "outputs": [
    {
     "data": {
      "text/plain": [
       "'5'"
      ]
     },
     "execution_count": 6,
     "metadata": {},
     "output_type": "execute_result"
    }
   ],
   "source": [
    "str(a)"
   ]
  },
  {
   "cell_type": "code",
   "execution_count": 7,
   "id": "66496589-bea2-4c64-857d-71ea3764a844",
   "metadata": {},
   "outputs": [
    {
     "data": {
      "text/plain": [
       "int"
      ]
     },
     "execution_count": 7,
     "metadata": {},
     "output_type": "execute_result"
    }
   ],
   "source": [
    "type(a)\n"
   ]
  },
  {
   "cell_type": "code",
   "execution_count": 8,
   "id": "db80153c-a232-454a-952e-361bb438be7d",
   "metadata": {},
   "outputs": [],
   "source": [
    "a = str(a)"
   ]
  },
  {
   "cell_type": "code",
   "execution_count": 9,
   "id": "5bc6a992-171a-4bc3-af60-7f8d463f16a6",
   "metadata": {},
   "outputs": [
    {
     "data": {
      "text/plain": [
       "str"
      ]
     },
     "execution_count": 9,
     "metadata": {},
     "output_type": "execute_result"
    }
   ],
   "source": [
    "type(a)"
   ]
  },
  {
   "cell_type": "code",
   "execution_count": 10,
   "id": "6f7d1184-99c3-4533-b82e-7bdea7ecaff3",
   "metadata": {},
   "outputs": [],
   "source": [
    "a = float(a)"
   ]
  },
  {
   "cell_type": "code",
   "execution_count": 11,
   "id": "4be9ee21-eabb-46ed-8b67-48e250eddad1",
   "metadata": {},
   "outputs": [
    {
     "data": {
      "text/plain": [
       "float"
      ]
     },
     "execution_count": 11,
     "metadata": {},
     "output_type": "execute_result"
    }
   ],
   "source": [
    "type(a)"
   ]
  },
  {
   "cell_type": "code",
   "execution_count": 12,
   "id": "aaa3c47e-d5d6-400b-b953-b0d942c4aab3",
   "metadata": {},
   "outputs": [],
   "source": [
    "#python is casee seensitive"
   ]
  },
  {
   "cell_type": "code",
   "execution_count": 13,
   "id": "a5aef2bd-ec6a-4378-b752-32ce0868f0d4",
   "metadata": {},
   "outputs": [],
   "source": [
    "a=b=c=10"
   ]
  },
  {
   "cell_type": "code",
   "execution_count": 14,
   "id": "e19752ea-3f4b-4e27-8568-af54fb9c6a2c",
   "metadata": {},
   "outputs": [
    {
     "name": "stdout",
     "output_type": "stream",
     "text": [
      "10\n",
      "10\n",
      "10\n"
     ]
    }
   ],
   "source": [
    "print(a)\n",
    "print(b)\n",
    "print(c)"
   ]
  },
  {
   "cell_type": "code",
   "execution_count": 15,
   "id": "f5cddec7-304f-4ce5-954d-a5dcc2195693",
   "metadata": {},
   "outputs": [
    {
     "data": {
      "text/plain": [
       "140716522910920"
      ]
     },
     "execution_count": 15,
     "metadata": {},
     "output_type": "execute_result"
    }
   ],
   "source": [
    "id(a)\n",
    "id(b)\n",
    "id(c)"
   ]
  },
  {
   "cell_type": "code",
   "execution_count": 17,
   "id": "69f80ded-1491-4ac2-a0fd-77b397f0bf7b",
   "metadata": {},
   "outputs": [],
   "source": [
    "#they all will have same id they all store at same memory address"
   ]
  },
  {
   "cell_type": "code",
   "execution_count": 18,
   "id": "f5e7f4d6-45b5-4d67-bad6-ec0895894e6c",
   "metadata": {},
   "outputs": [
    {
     "name": "stdout",
     "output_type": "stream",
     "text": [
      "cs\n",
      "1\n",
      "3\n"
     ]
    }
   ],
   "source": [
    "#many values to multile variables\n",
    "x,y,z = \"cs\",\"1\",\"3\"\n",
    "print(x)\n",
    "print(y)\n",
    "print(z)\n"
   ]
  },
  {
   "cell_type": "code",
   "execution_count": 19,
   "id": "5d02d489-6894-46b2-baa4-6b1f455856f4",
   "metadata": {},
   "outputs": [
    {
     "data": {
      "text/plain": [
       "140716522972992"
      ]
     },
     "execution_count": 19,
     "metadata": {},
     "output_type": "execute_result"
    }
   ],
   "source": [
    "id(x)\n",
    "id(y)\n",
    "id(z)\n",
    "#we can not do this ❌"
   ]
  },
  {
   "cell_type": "code",
   "execution_count": 20,
   "id": "ac142901-2a70-4fc9-b3b2-dd8c87786824",
   "metadata": {},
   "outputs": [
    {
     "data": {
      "text/plain": [
       "1779072237856"
      ]
     },
     "execution_count": 20,
     "metadata": {},
     "output_type": "execute_result"
    }
   ],
   "source": [
    "id(x)"
   ]
  },
  {
   "cell_type": "code",
   "execution_count": 21,
   "id": "10d18b92-070e-4b4a-925c-0ad8bcd30daa",
   "metadata": {},
   "outputs": [
    {
     "data": {
      "text/plain": [
       "140716522972896"
      ]
     },
     "execution_count": 21,
     "metadata": {},
     "output_type": "execute_result"
    }
   ],
   "source": [
    "id(y)"
   ]
  },
  {
   "cell_type": "code",
   "execution_count": 22,
   "id": "d91a49e9-eeb5-468c-bee1-c3f92af0badb",
   "metadata": {},
   "outputs": [
    {
     "data": {
      "text/plain": [
       "140716522972992"
      ]
     },
     "execution_count": 22,
     "metadata": {},
     "output_type": "execute_result"
    }
   ],
   "source": [
    "id(z)\n"
   ]
  },
  {
   "cell_type": "code",
   "execution_count": null,
   "id": "02c8abfd-3d2c-4fba-88bc-88aa7a442e81",
   "metadata": {},
   "outputs": [],
   "source": [
    "#unpack a collection \n",
    "fruits = [\"apple\",\"mango\",\"guava\"]\n",
    "x,y,z = fruits\n",
    " "
   ]
  },
  {
   "cell_type": "code",
   "execution_count": 27,
   "id": "97a42a35-6e9a-451d-9fb8-490a816931c5",
   "metadata": {},
   "outputs": [
    {
     "data": {
      "text/plain": [
       "'apple'"
      ]
     },
     "execution_count": 27,
     "metadata": {},
     "output_type": "execute_result"
    }
   ],
   "source": [
    "x"
   ]
  },
  {
   "cell_type": "code",
   "execution_count": 28,
   "id": "e560f5e2-7815-4e2c-9f1e-ff57ab38ce9e",
   "metadata": {},
   "outputs": [
    {
     "data": {
      "text/plain": [
       "'mango'"
      ]
     },
     "execution_count": 28,
     "metadata": {},
     "output_type": "execute_result"
    }
   ],
   "source": [
    "y"
   ]
  },
  {
   "cell_type": "code",
   "execution_count": 26,
   "id": "f6ba7345-99d3-4b38-b231-61fe3b30645d",
   "metadata": {},
   "outputs": [
    {
     "data": {
      "text/plain": [
       "'guava'"
      ]
     },
     "execution_count": 26,
     "metadata": {},
     "output_type": "execute_result"
    }
   ],
   "source": [
    "z"
   ]
  },
  {
   "cell_type": "code",
   "execution_count": 29,
   "id": "a3dc8afb-bfab-4bf4-b0ef-ab7ebfafdb0a",
   "metadata": {},
   "outputs": [
    {
     "ename": "IndentationError",
     "evalue": "unexpected indent (2819987909.py, line 2)",
     "output_type": "error",
     "traceback": [
      "\u001b[1;36m  Cell \u001b[1;32mIn[29], line 2\u001b[1;36m\u001b[0m\n\u001b[1;33m    print()\u001b[0m\n\u001b[1;37m    ^\u001b[0m\n\u001b[1;31mIndentationError\u001b[0m\u001b[1;31m:\u001b[0m unexpected indent\n"
     ]
    }
   ],
   "source": [
    "#output function\n",
    "  print()"
   ]
  },
  {
   "cell_type": "code",
   "execution_count": 30,
   "id": "df4a633d-91fa-4977-947f-cc8dac993e26",
   "metadata": {},
   "outputs": [
    {
     "name": "stdout",
     "output_type": "stream",
     "text": [
      "apple\n"
     ]
    }
   ],
   "source": [
    "print(x)"
   ]
  },
  {
   "cell_type": "markdown",
   "id": "b183160a-2763-4206-a8cc-fe7e33d77df7",
   "metadata": {},
   "source": [
    "#global variable"
   ]
  },
  {
   "cell_type": "markdown",
   "id": "0313e665-5e7e-4c43-b215-91f0ee6f184d",
   "metadata": {},
   "source": [
    "variable that are created outside the function , or any variable declred by global keyword\n",
    " ex;\n",
    "  global(a)"
   ]
  },
  {
   "cell_type": "code",
   "execution_count": 41,
   "id": "8154cec6-c310-4414-8daa-17b3ac8ce854",
   "metadata": {},
   "outputs": [
    {
     "name": "stdout",
     "output_type": "stream",
     "text": [
      "fantastic\n",
      "python is fantastic\n"
     ]
    }
   ],
   "source": [
    "def myfunc():\n",
    "    global x\n",
    "    x = \"fantastic\"\n",
    "    print(x)\n",
    "\n",
    "myfunc()\n",
    "\n",
    "print(\"python is \" + x)"
   ]
  },
  {
   "cell_type": "code",
   "execution_count": null,
   "id": "d39f6996-10e0-4c13-be5e-69ca6ccd30aa",
   "metadata": {},
   "outputs": [],
   "source": []
  }
 ],
 "metadata": {
  "kernelspec": {
   "display_name": "Python [conda env:base] *",
   "language": "python",
   "name": "conda-base-py"
  },
  "language_info": {
   "codemirror_mode": {
    "name": "ipython",
    "version": 3
   },
   "file_extension": ".py",
   "mimetype": "text/x-python",
   "name": "python",
   "nbconvert_exporter": "python",
   "pygments_lexer": "ipython3",
   "version": "3.13.5"
  }
 },
 "nbformat": 4,
 "nbformat_minor": 5
}
